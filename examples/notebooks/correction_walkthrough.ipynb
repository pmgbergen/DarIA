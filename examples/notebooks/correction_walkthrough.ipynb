{
 "cells": [
  {
   "cell_type": "markdown",
   "metadata": {},
   "source": [
    "**Correction setup**\n",
    "\n",
    "In DarIA the setup of images consists of three steps:\n",
    "- Color correction, \n",
    "- drift correction, and\n",
    "- curvature/shape correction. \n",
    "\n",
    "The color correction maps the colorspace of the image to fit with the one of a classic color checker (Only usable if a color checker is present in the image). Drift correction is useful when a series of images is analyzed. Currently, it works by translating an image so that the color checkers overlap between images. Curvature/shape correction corrects for geometrically distorted features in the image by removing curvature (obtaining a 2D representation of the object of interest in the image), and cropping the image.\n",
    "\n",
    "The corrections can all be steered from config files, and in this notebook, the setup of it is demonstrated. First the color correction and drift correction is initialized on a base image, by defining the location of the color checker. Then, a 5-step procedure for setting up curvature correction of an image is performed. Finally, an example of how load the information related to the correction procedure is performed.\n",
    "\n",
    "\n",
    "First, DarIA needs to be imported."
   ]
  },
  {
   "cell_type": "code",
   "execution_count": null,
   "metadata": {},
   "outputs": [],
   "source": [
    "import daria as da\n",
    "# Set matplotlib to plot interactive windows, requires the installation of ipympl (pip install ipympl, or conda install -c conda-forge ipympl)\n",
    "%matplotlib ipympl"
   ]
  },
  {
   "cell_type": "markdown",
   "metadata": {},
   "source": [
    "**Setup: Color Correction**\n",
    "\n",
    "To set up the color correction all that is needed is to specify the pixel coordines in (x,y), i.e., (col,row) format, of the\n",
    "marks on the color checker. The first coordinate is associated to the mark\n",
    "closest to the brown swatch. Continue in counter-clockwise direction.\n",
    "NOTE: That this example uses a crudely coarsened image. Thus, the marks\n",
    "are not very obvious. They are small white L's.\n",
    "\n",
    "A way to find the small white L's is to plot the image using matplotlib.pyplot's imshow function on the base image, zooming in on the color checker and reading the pixel coordinates of the L's.\n",
    "\n",
    "Moreover, we create a config dictionary that we will add information to during initialization of the corrections.\n"
   ]
  },
  {
   "cell_type": "code",
   "execution_count": null,
   "metadata": {},
   "outputs": [],
   "source": [
    "# Create empty dictionary\n",
    "config: dict = {}\n",
    "\n",
    "# Choose region of interest for the color checker\n",
    "roi_color_checker = [\n",
    "        [146, 196],\n",
    "        [220, 199],\n",
    "        [220, 95],\n",
    "        [148, 91],\n",
    "    ]\n",
    "\n",
    "# Create the color correction object\n",
    "color_correction = da.ColorCorrection(\n",
    "    roi=roi_color_checker,\n",
    ")\n",
    "\n",
    "# Store the input from the color correction object in the config file\n",
    "config[\"color\"] = color_correction.config"
   ]
  },
  {
   "cell_type": "markdown",
   "metadata": {},
   "source": [
    "**Setup: Drift Correction**\n",
    "\n",
    "The drift correction requires a base image that all of the other images should be aligned to and a roi campturing the color checker. Naturally, the same roi can be used to initialize the drift correction. "
   ]
  },
  {
   "cell_type": "code",
   "execution_count": null,
   "metadata": {},
   "outputs": [],
   "source": [
    "# Choose base image path\n",
    "laser_grid_image_path = \"../images/baseline_with_laser_grid.jpg\"\n",
    "\n",
    "# Initialize drift correction from the color checker roi\n",
    "drift_correction = da.DriftCorrection(base = laser_grid_image_path, roi=roi_color_checker)\n",
    "\n",
    "# Update the config dictionary\n",
    "config[\"drift\"] = drift_correction.config"
   ]
  },
  {
   "cell_type": "markdown",
   "metadata": {},
   "source": [
    "**Setup: Curvature Correction**\n",
    "\n",
    "The main idea of the curvature correction setup is to work through a reference image and determine the procedure for correcting the curvature. Then, the entire procedure (in form of different parameters) are stored in a config dictionary inside the CurvatureCorrection class, and is to be used to directly curvature correct future images with the same camera setup.\n",
    "\n",
    "**Step 1: Initialization**\n",
    "\n",
    "First the CurvatureCorrection object is initialized with the image_source (this can either be the path to an image or an image matrix), and the height and width of the image. \n",
    "\n",
    "\n",
    "Note: The curvature correction object can directly be initialized from a json file with the curvature correction parameters as well, more on that later in the notebook."
   ]
  },
  {
   "cell_type": "code",
   "execution_count": null,
   "metadata": {},
   "outputs": [],
   "source": [
    "curv_correction = da.CurvatureCorrection(image = laser_grid_image_path, width = 2.8, height = 1.5)"
   ]
  },
  {
   "cell_type": "markdown",
   "metadata": {},
   "source": [
    "**Step 2: Pre-bulge correction**\n",
    "\n",
    "The second step is to apply a pre-bulge correction. This is done to correct for the camera's tendency to bulge vertical lines near the edges of the image outwards. Preferably, an as small as possible parameter should be chosen below such that all straight vertical lines either becomes straight or curves slightly inwards. "
   ]
  },
  {
   "cell_type": "code",
   "execution_count": null,
   "metadata": {},
   "outputs": [],
   "source": [
    "#Apply setup pre-bulge correction\n",
    "curv_correction.pre_bulge_correction(horizontal_bulge = 5e-9)\n",
    "\n",
    "#Show the effect on the image\n",
    "curv_correction.show_image()"
   ]
  },
  {
   "cell_type": "markdown",
   "metadata": {},
   "source": [
    "**Step 3: Crop image**\n",
    "\n",
    "Step 3 is to crop the image such that the corners of the FluidFlower appears in the corner of the image. The pixel values of the four corners of the FluidFlower should be provided, starting with the upper left corner and proceeding counter-clockwise. The pixel values can be read by mousing over desired points in the image above if it is made interactive. The points are indexed using a [col,row] rule with col increasing towards the right, and row increasing downwards."
   ]
  },
  {
   "cell_type": "code",
   "execution_count": null,
   "metadata": {},
   "outputs": [],
   "source": [
    "curv_correction.crop([\n",
    "        [11, 8],\n",
    "        [16, 1755],\n",
    "        [3165, 1748],\n",
    "        [3165, 5],\n",
    "    ])\n",
    "\n",
    "#In order to make interactive windows below, the ipympl options must be toggled\n",
    "%matplotlib ipympl\n",
    "curv_correction.show_image()"
   ]
  },
  {
   "cell_type": "markdown",
   "metadata": {},
   "source": [
    "**Step 4: Bulge correction**\n",
    "\n",
    "Step 4 is the actual bulge correction. Here, the number of pixels that the image curves inwards on each of the side should be provided (can be read from the plot above if the window is interactive)."
   ]
  },
  {
   "cell_type": "code",
   "execution_count": null,
   "metadata": {},
   "outputs": [],
   "source": [
    "curv_correction.bulge_corection(left = 0, right = 0, top = 53, bottom = 57)\n",
    "\n",
    "#In order to make interactive windows below, the ipympl options must be toggled\n",
    "%matplotlib ipympl\n",
    "curv_correction.show_image()"
   ]
  },
  {
   "cell_type": "markdown",
   "metadata": {},
   "source": [
    "**Step 5: Stretch**\n",
    "\n",
    "The final modification is to correct for potential stretch in the image. To do this we need one point that has been stretched (point_source), the point that it has been stretched from (point_destination), and the stretch center (stretch_center). The parameters can for example be found by drawing a grid on the gridded image (using daria functionality) and finding the points on the laser grid and the drawn grid. The stretch center will be where the grids align, a point_source is a laser grid line, and a point_destination is the corresponding point on the drawn grid. \n",
    "\n",
    "Important remark: Choose the point_destination and the point_source close to one of the four corners of the image for optimal aaccuracy.\n"
   ]
  },
  {
   "cell_type": "code",
   "execution_count": null,
   "metadata": {},
   "outputs": [],
   "source": [
    "gridded_image = da.Image(curv_correction.temporary_image, width = curv_correction.width, height = curv_correction.height, color_space = \"RGB\")\n",
    "double_gridded_image = gridded_image.add_grid(dx = 0.1, dy = 0.1, color=(100,100, 0), thickness= 5)\n",
    "\n",
    "#In order to make interactive windows below, the ipympl options must be toggled\n",
    "%matplotlib ipympl\n",
    "double_gridded_image.plt_show()\n"
   ]
  },
  {
   "cell_type": "code",
   "execution_count": null,
   "metadata": {},
   "outputs": [],
   "source": [
    "curv_correction.stretch_correction(point_source=[237,223], point_destination= [227, 225], stretch_center= [1476, 1020])\n",
    "\n",
    "#Turn off interactive windows\n",
    "%matplotlib inline\n",
    "curv_correction.show_image()\n",
    "\n",
    "# Store information from curvature correction file in the config dictionary\n",
    "config[\"curvature\"] = curv_correction.config"
   ]
  },
  {
   "cell_type": "markdown",
   "metadata": {},
   "source": [
    "**Applying the full correction procedure to a new image with the same setup**\n",
    "\n",
    "Once the curvature correction has been set up properly as above, a config dictionary has automatically been created (can be reached with curv_correction.config). Applying the same settings to a new image can now be done just by initializing a DarIA image with the curvature correction object."
   ]
  },
  {
   "cell_type": "code",
   "execution_count": null,
   "metadata": {},
   "outputs": [],
   "source": [
    "corrected_image = da.Image(\"../images/co2_0.jpg\", color_correction = color_correction, drift_correction = drift_correction, curvature_correction=curv_correction)\n",
    "corrected_image.plt_show()"
   ]
  },
  {
   "cell_type": "markdown",
   "metadata": {},
   "source": [
    "**Saving the config to an external json-file**\n",
    "\n",
    "The full config file can now be saved as a json file for later use. \n",
    "\n",
    "Note that there also is a write_config_to_file method in all of the corrections. Then, only the information from each separate correction will be stored."
   ]
  },
  {
   "cell_type": "code",
   "execution_count": null,
   "metadata": {},
   "outputs": [],
   "source": [
    "import json\n",
    "config_path = \"../images/config.json\"\n",
    "with open(config_path, \"w\") as outfile:\n",
    "    json.dump(config, outfile, indent=4)"
   ]
  },
  {
   "cell_type": "markdown",
   "metadata": {},
   "source": [
    "**Creating corrections from json-config file**\n",
    "\n",
    "One could also directly initialize all of the corrections from a config file like the one we just created by using the method below."
   ]
  },
  {
   "cell_type": "code",
   "execution_count": null,
   "metadata": {},
   "outputs": [],
   "source": [
    "new_curv_correction = da.CurvatureCorrection(config = config[\"curvature\"])\n",
    "new_drift_correction = da.DriftCorrection(base = laser_grid_image_path, config = config[\"drift\"])\n",
    "new_color_correction = da.ColorCorrection(config = config[\"color\"])\n",
    "\n",
    "# The newly created curvature correction can then be applied to a new image and will work without any further setup\n",
    "new_corrected_image = da.Image(\"../images/co2_1.jpg\", color_correction = new_color_correction, drift_correction= new_drift_correction, curvature_correction = new_curv_correction)\n",
    "new_corrected_image.plt_show()"
   ]
  }
 ],
 "metadata": {
  "kernelspec": {
   "display_name": "Python 3.10.7 64-bit (system)",
   "language": "python",
   "name": "python3"
  },
  "language_info": {
   "codemirror_mode": {
    "name": "ipython",
    "version": 3
   },
   "file_extension": ".py",
   "mimetype": "text/x-python",
   "name": "python",
   "nbconvert_exporter": "python",
   "pygments_lexer": "ipython3",
   "version": "3.10.8"
  },
  "orig_nbformat": 4,
  "vscode": {
   "interpreter": {
    "hash": "408475a283c45cf9f7261fa76ad05b2967f627503c1ee969ffe623e82a04e6f7"
   }
  }
 },
 "nbformat": 4,
 "nbformat_minor": 2
}
