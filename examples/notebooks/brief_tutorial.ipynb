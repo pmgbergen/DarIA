{
 "cells": [
  {
   "cell_type": "markdown",
   "metadata": {},
   "source": [
    "<h>\n",
    "DarIA (Darcy scale Image Analysis toolbox) - Brief tutorial\n",
    "</h>\n",
    "\n",
    "In the following notebook, some manipulation of images that is found in DarIA is demonstrated.\n",
    "\n",
    "First, DarIA is imported.\n"
   ]
  },
  {
   "cell_type": "code",
   "execution_count": null,
   "metadata": {},
   "outputs": [],
   "source": [
    "import daria as da"
   ]
  },
  {
   "cell_type": "markdown",
   "metadata": {},
   "source": [
    "At the heart of DarIA we find the Image class which should be fed both an image, and the physical dimentions of the image. Take the baseline.jpg image that is located in examples/images as an example."
   ]
  },
  {
   "cell_type": "code",
   "execution_count": null,
   "metadata": {},
   "outputs": [],
   "source": [
    "baseline_image = da.Image(\"../images/baseline.jpg\", origo=(5,0), width = 280, height = 150)"
   ]
  },
  {
   "cell_type": "markdown",
   "metadata": {},
   "source": [
    "The image can either be displayed by using open-cv functionality by the show method, or by using matplotlib.pyplot through the use of the plt_show method"
   ]
  },
  {
   "cell_type": "code",
   "execution_count": null,
   "metadata": {},
   "outputs": [],
   "source": [
    "baseline_image.show(wait = 1000)\n",
    "baseline_image.plt_show()"
   ]
  },
  {
   "cell_type": "markdown",
   "metadata": {},
   "source": [
    "Extracting regions of interest (ROIs) can either be done using pixel coordinates (as displayed in the axes on the above image), or through physical coordinates. Say that we would like to extract an image with pixel values 1000 to 2000 in the x-direction and 400 to 800 in the y-direction. Then they following line of code would do the trick."
   ]
  },
  {
   "cell_type": "code",
   "execution_count": null,
   "metadata": {},
   "outputs": [],
   "source": [
    "ROI_pix = da.extractROIPixel(baseline_image, (slice(400,800), slice(1000,2000)))\n",
    "ROI_pix.plt_show()"
   ]
  },
  {
   "cell_type": "markdown",
   "metadata": {},
   "source": [
    "If one would rather like to extract a ROI, defined as a box with corners [10, 20] and [50, 70] (in physical physical coordinates), this is possible by the use of the command below:"
   ]
  },
  {
   "cell_type": "code",
   "execution_count": null,
   "metadata": {},
   "outputs": [],
   "source": [
    "ROI_phys = da.extractROI(baseline_image, [[10,20], [50, 70]])\n",
    "ROI_phys.plt_show()"
   ]
  },
  {
   "cell_type": "markdown",
   "metadata": {},
   "source": [
    "A grid can be added to the image, where colors and thickness can be specified as user input."
   ]
  },
  {
   "cell_type": "code",
   "execution_count": null,
   "metadata": {},
   "outputs": [],
   "source": [
    "grid_image = baseline_image.add_grid(dx = 10, dy = 10, color= (150,0, 100))\n",
    "grid_image.plt_show()"
   ]
  },
  {
   "cell_type": "markdown",
   "metadata": {},
   "source": [
    "It is often very useful to consider images in single color spaces, especially when performing computationally demandng tasks. Below a grayscale image is first extracted from the baseline image, then a total variational denoising filter is applied."
   ]
  },
  {
   "cell_type": "code",
   "execution_count": null,
   "metadata": {},
   "outputs": [],
   "source": [
    "gray_baseline = baseline_image.toGray(return_image= True)\n",
    "gray_baseline.plt_show()"
   ]
  },
  {
   "cell_type": "code",
   "execution_count": null,
   "metadata": {},
   "outputs": [],
   "source": [
    "denoised_image = da.tv_denoising(gray_baseline, mu = 0.1, ell = 1, verbose = True)\n",
    "denoised_image.plt_show()"
   ]
  }
 ],
 "metadata": {
  "kernelspec": {
   "display_name": "Python 3.10.7 64-bit (system)",
   "language": "python",
   "name": "python3"
  },
  "language_info": {
   "codemirror_mode": {
    "name": "ipython",
    "version": 3
   },
   "file_extension": ".py",
   "mimetype": "text/x-python",
   "name": "python",
   "nbconvert_exporter": "python",
   "pygments_lexer": "ipython3",
   "version": "3.10.7"
  },
  "orig_nbformat": 4,
  "vscode": {
   "interpreter": {
    "hash": "408475a283c45cf9f7261fa76ad05b2967f627503c1ee969ffe623e82a04e6f7"
   }
  }
 },
 "nbformat": 4,
 "nbformat_minor": 2
}
